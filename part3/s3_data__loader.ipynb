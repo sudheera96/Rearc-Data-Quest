{
 "cells": [
  {
   "cell_type": "markdown",
   "id": "1c4d8721-8fda-4800-8f72-7fc1b17fef24",
   "metadata": {},
   "source": [
    "## Part 3: Data Analytics"
   ]
  },
  {
   "cell_type": "code",
   "execution_count": 12,
   "id": "91791382-0c06-479d-b8dd-7db757971724",
   "metadata": {},
   "outputs": [],
   "source": [
    "# Imports and Class Definition\n",
    "\n",
    "import gzip\n",
    "import io\n",
    "import json\n",
    "\n",
    "import boto3\n",
    "import pandas as pd\n",
    "\n",
    "\n",
    "class S3DataLoader:\n",
    "    def __init__(self, bucket_name):\n",
    "        self.bucket_name = bucket_name\n",
    "        self.s3_client = boto3.client('s3')\n",
    "\n",
    "    def load_csv(self, key):\n",
    "        csv_obj = self.s3_client.get_object(Bucket=self.bucket_name, Key=key)\n",
    "        body_bytes = csv_obj['Body'].read()\n",
    "\n",
    "        if body_bytes[:2] == b'\\x1f\\x8b':  # gzip magic bytes\n",
    "            decompressed = gzip.decompress(body_bytes)\n",
    "        else:\n",
    "            decompressed = body_bytes\n",
    "\n",
    "        df = pd.read_csv(io.BytesIO(decompressed), sep=\"\\t\", engine=\"python\")\n",
    "        df.columns = [col.strip() for col in df.columns]\n",
    "        df = df.applymap(lambda x: x.strip() if isinstance(x, str) else x)\n",
    "        return df\n",
    "\n",
    "    def load_json(self, key, json_data_key=None):\n",
    "        json_obj = self.s3_client.get_object(Bucket=self.bucket_name, Key=key)\n",
    "        body = json_obj['Body'].read().decode('utf-8')\n",
    "        data = json.loads(body)\n",
    "        if json_data_key:\n",
    "            df = pd.json_normalize(data[json_data_key])\n",
    "        else:\n",
    "            df = pd.json_normalize(data)\n",
    "        return df\n"
   ]
  },
  {
   "cell_type": "code",
   "execution_count": 13,
   "id": "b1b15b5a-04ef-4924-9f2f-0796d5954026",
   "metadata": {},
   "outputs": [
    {
     "name": "stdout",
     "output_type": "stream",
     "text": [
      "CSV DataFrame head:\n",
      "     series_id  year period  value footnote_codes\n",
      "0  PRS30006011  1995    Q01    2.6            NaN\n",
      "1  PRS30006011  1995    Q02    2.1            NaN\n",
      "2  PRS30006011  1995    Q03    0.9            NaN\n",
      "3  PRS30006011  1995    Q04    0.1            NaN\n",
      "4  PRS30006011  1995    Q05    1.4            NaN\n",
      "\n",
      "JSON DataFrame head:\n",
      "  ID Nation         Nation  ID Year  Year  Population    Slug Nation\n",
      "0   01000US  United States     2023  2023   332387540  united-states\n",
      "1   01000US  United States     2022  2022   331097593  united-states\n",
      "2   01000US  United States     2021  2021   329725481  united-states\n",
      "3   01000US  United States     2020  2020   326569308  united-states\n",
      "4   01000US  United States     2019  2019   324697795  united-states\n"
     ]
    },
    {
     "name": "stderr",
     "output_type": "stream",
     "text": [
      "C:\\Users\\csris_i58bcul\\AppData\\Local\\Temp\\ipykernel_26892\\2500619906.py:26: FutureWarning: DataFrame.applymap has been deprecated. Use DataFrame.map instead.\n",
      "  df = df.applymap(lambda x: x.strip() if isinstance(x, str) else x)\n"
     ]
    }
   ],
   "source": [
    "# Set variables and load data\n",
    "\n",
    "bucket_name = \"bls-data-sync-sri\"\n",
    "csv_key = 'bls/pr/pr.data.0.Current'  # Your CSV key\n",
    "json_key = 'datausa/response.json'  # Your JSON key\n",
    "\n",
    "loader = S3DataLoader(bucket_name)\n",
    "\n",
    "df_csv = loader.load_csv(csv_key)\n",
    "print(\"CSV DataFrame head:\")\n",
    "print(df_csv.head())\n",
    "\n",
    "df_json = loader.load_json(json_key, json_data_key='data')\n",
    "print(\"\\nJSON DataFrame head:\")\n",
    "print(df_json.head())\n"
   ]
  },
  {
   "cell_type": "code",
   "execution_count": 14,
   "id": "55cbfc5c-ade7-4e59-b5a0-a3d4c91b1841",
   "metadata": {},
   "outputs": [
    {
     "name": "stdout",
     "output_type": "stream",
     "text": [
      "📊 Mean population (2013–2018): 317,437,383.00\n",
      "📈 Standard deviation: 4,257,089.54\n"
     ]
    }
   ],
   "source": [
    "# Step 1: Convert relevant columns\n",
    "df_json['Year'] = pd.to_numeric(df_json['Year'], errors='coerce')\n",
    "df_json['Population'] = pd.to_numeric(df_json['Population'], errors='coerce')\n",
    "\n",
    "# Filter the years between 2013 and 2018\n",
    "filtered = df_json[(df_json['Year'] >= 2013) & (df_json['Year'] <= 2018)]\n",
    "\n",
    "# Compute mean and standard deviation\n",
    "mean_population = filtered['Population'].mean()\n",
    "std_population = filtered['Population'].std()\n",
    "\n",
    "#Display the results\n",
    "print(f\"📊 Mean population (2013–2018): {mean_population:,.2f}\")\n",
    "print(f\"📈 Standard deviation: {std_population:,.2f}\")"
   ]
  },
  {
   "cell_type": "code",
   "execution_count": 15,
   "id": "0316b9d3-2c78-4376-b86d-53a7dd31ddc0",
   "metadata": {},
   "outputs": [
    {
     "name": "stdout",
     "output_type": "stream",
     "text": [
      "Best year per series_id with summed value:\n",
      "     series_id  year    value\n",
      "0  PRS30006011  2022   20.500\n",
      "1  PRS30006012  2022   17.100\n",
      "2  PRS30006013  1998  705.895\n",
      "3  PRS30006021  2010   17.700\n",
      "4  PRS30006022  2010   12.400\n",
      "5  PRS30006023  2014  503.216\n",
      "6  PRS30006031  2022   20.500\n",
      "7  PRS30006032  2021   17.100\n",
      "8  PRS30006033  1998  702.672\n",
      "9  PRS30006061  2022   37.000\n"
     ]
    }
   ],
   "source": [
    "# 🔢 Step 2: Convert value to float and year to int\n",
    "\n",
    "df_csv['value'] = pd.to_numeric(df_csv['value'], errors='coerce')\n",
    "df_csv['year'] = pd.to_numeric(df_csv['year'], errors='coerce')\n",
    "\n",
    "#Group by series_id and year, then sum the values\n",
    "grouped = df_csv.groupby(['series_id', 'year'])['value'].sum().reset_index()\n",
    "\n",
    "# Find the best year per series_id (max sum of value)\n",
    "best_years = grouped.loc[grouped.groupby('series_id')['value'].idxmax()]\n",
    "best_years = best_years.sort_values(by='series_id').reset_index(drop=True)\n",
    "\n",
    "print(\"Best year per series_id with summed value:\")\n",
    "print(best_years.head(10))  # or to_csv, to_excel, etc.\n"
   ]
  },
  {
   "cell_type": "code",
   "execution_count": 16,
   "id": "dccab420-1b48-4a1c-8fd6-c19b21488308",
   "metadata": {},
   "outputs": [
    {
     "name": "stdout",
     "output_type": "stream",
     "text": [
      "🔗 Joined Report:\n",
      "      series_id  year period  value   Population\n",
      "0   PRS30006032  1995    Q01    0.0          NaN\n",
      "1   PRS30006032  1996    Q01   -4.2          NaN\n",
      "2   PRS30006032  1997    Q01    2.8          NaN\n",
      "3   PRS30006032  1998    Q01    0.9          NaN\n",
      "4   PRS30006032  1999    Q01   -4.1          NaN\n",
      "5   PRS30006032  2000    Q01    0.5          NaN\n",
      "6   PRS30006032  2001    Q01   -6.3          NaN\n",
      "7   PRS30006032  2002    Q01   -6.6          NaN\n",
      "8   PRS30006032  2003    Q01   -5.7          NaN\n",
      "9   PRS30006032  2004    Q01    2.0          NaN\n",
      "10  PRS30006032  2005    Q01   -0.5          NaN\n",
      "11  PRS30006032  2006    Q01    1.8          NaN\n",
      "12  PRS30006032  2007    Q01   -0.8          NaN\n",
      "13  PRS30006032  2008    Q01   -3.5          NaN\n",
      "14  PRS30006032  2009    Q01  -21.0          NaN\n",
      "15  PRS30006032  2010    Q01    3.2          NaN\n",
      "16  PRS30006032  2011    Q01    1.5          NaN\n",
      "17  PRS30006032  2012    Q01    2.5          NaN\n",
      "18  PRS30006032  2013    Q01    0.5  311536594.0\n",
      "19  PRS30006032  2014    Q01   -0.1  314107084.0\n",
      "20  PRS30006032  2015    Q01   -1.7  316515021.0\n",
      "21  PRS30006032  2016    Q01   -1.4  318558162.0\n",
      "22  PRS30006032  2017    Q01    0.9  321004407.0\n",
      "23  PRS30006032  2018    Q01    0.5  322903030.0\n",
      "24  PRS30006032  2019    Q01   -1.6  324697795.0\n",
      "25  PRS30006032  2020    Q01   -7.0  326569308.0\n",
      "26  PRS30006032  2021    Q01    0.7  329725481.0\n",
      "27  PRS30006032  2022    Q01    5.3  331097593.0\n",
      "28  PRS30006032  2023    Q01    0.3  332387540.0\n",
      "29  PRS30006032  2024    Q01   -0.7          NaN\n",
      "30  PRS30006032  2025    Q01    0.4          NaN\n"
     ]
    }
   ],
   "source": [
    "# Step 3: Filter Part 1 DataFrame for the specific series_id and period\n",
    "filtered_csv = df_csv[\n",
    "    (df_csv['series_id'] == 'PRS30006032') &\n",
    "    (df_csv['period'] == 'Q01')\n",
    "    ].copy()\n",
    "\n",
    "# Ensure the year column is numeric for join\n",
    "filtered_csv['year'] = pd.to_numeric(filtered_csv['year'], errors='coerce')\n",
    "\n",
    "# Prepare Part 2 DataFrame (population) for merge\n",
    "df_json['Year'] = pd.to_numeric(df_json['Year'], errors='coerce')\n",
    "df_json['Population'] = pd.to_numeric(df_json['Population'], errors='coerce')\n",
    "df_population = df_json[['Year', 'Population']].rename(columns={'Year': 'year'})\n",
    "\n",
    "# Merge on year\n",
    "merged_df = pd.merge(filtered_csv, df_population, on='year', how='left')\n",
    "\n",
    "# Final display\n",
    "print(\"🔗 Joined Report:\")\n",
    "print(merged_df[['series_id', 'year', 'period', 'value', 'Population']])\n"
   ]
  },
  {
   "cell_type": "code",
   "execution_count": 17,
   "id": "f375ceee-4cf0-4e3a-8f1c-9d956c12a543",
   "metadata": {},
   "outputs": [
    {
     "name": "stdout",
     "output_type": "stream",
     "text": [
      "📊 Final Report (Filtered with Available Population):\n",
      "      series_id  year period  value   Population\n",
      "18  PRS30006032  2013    Q01    0.5  311536594.0\n",
      "19  PRS30006032  2014    Q01   -0.1  314107084.0\n",
      "20  PRS30006032  2015    Q01   -1.7  316515021.0\n",
      "21  PRS30006032  2016    Q01   -1.4  318558162.0\n",
      "22  PRS30006032  2017    Q01    0.9  321004407.0\n",
      "23  PRS30006032  2018    Q01    0.5  322903030.0\n",
      "24  PRS30006032  2019    Q01   -1.6  324697795.0\n",
      "25  PRS30006032  2020    Q01   -7.0  326569308.0\n",
      "26  PRS30006032  2021    Q01    0.7  329725481.0\n",
      "27  PRS30006032  2022    Q01    5.3  331097593.0\n",
      "28  PRS30006032  2023    Q01    0.3  332387540.0\n"
     ]
    }
   ],
   "source": [
    "# Step 4: Filter merged_df to only rows where Population is available\n",
    "final_report = merged_df[merged_df['Population'].notna()].copy()\n",
    "\n",
    "# Optional: sort by year if you like\n",
    "final_report = final_report.sort_values(by='year')\n",
    "\n",
    "# Final Output\n",
    "print(\"📊 Final Report (Filtered with Available Population):\")\n",
    "print(final_report[['series_id', 'year', 'period', 'value', 'Population']])\n"
   ]
  },
  {
   "cell_type": "markdown",
   "id": "146a4cd5-a91c-4a80-b8ab-315a785a80e7",
   "metadata": {},
   "source": [
    "### 📌 Observations\n",
    "\n",
    "The value in Part 1 represents quarterly measurements for various indicators. Summing these quarterly values by year helps identify the best year with the highest total value for each series_id.\n",
    "\n",
    "The population data (Part 2) provides yearly US population counts, and calculating mean and standard deviation for 2013–2018 shows population trends to compare against economic indicators.\n",
    "\n",
    "- 📈 **Highest Value:** `5.3%` in **2022**, with a population of over **331M**.\n",
    "- 📉 **Lowest Value:** `-7.0%` in **2020**, coinciding with the first pandemic year.\n",
    "- 🧮 **Overall Trend:** The population increases steadily each year, while the `value` fluctuates.\n",
    "- 🧭 **Recent Values (last 3 years):**\n",
    "  - **2021:** `0.7%`\n",
    "  - **2022:** `5.3%`\n",
    "  - **2023:** `0.3%`\n"
   ]
  },
  {
   "cell_type": "code",
   "execution_count": null,
   "id": "ca6e6b8b-6532-4d2c-89bc-2e109f29f87f",
   "metadata": {},
   "outputs": [],
   "source": []
  }
 ],
 "metadata": {
  "kernelspec": {
   "display_name": "Python 3 (ipykernel)",
   "language": "python",
   "name": "python3"
  },
  "language_info": {
   "codemirror_mode": {
    "name": "ipython",
    "version": 3
   },
   "file_extension": ".py",
   "mimetype": "text/x-python",
   "name": "python",
   "nbconvert_exporter": "python",
   "pygments_lexer": "ipython3",
   "version": "3.13.3"
  }
 },
 "nbformat": 4,
 "nbformat_minor": 5
}
